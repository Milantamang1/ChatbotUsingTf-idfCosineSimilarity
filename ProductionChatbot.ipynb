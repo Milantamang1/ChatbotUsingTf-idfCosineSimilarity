{
  "cells": [
    {
      "cell_type": "markdown",
      "metadata": {
        "id": "view-in-github",
        "colab_type": "text"
      },
      "source": [
        "<a href=\"https://colab.research.google.com/github/Milantamang1/ChatbotUsingTf-idfCosineSimilarity/blob/main/ProductionChatbot.ipynb\" target=\"_parent\"><img src=\"https://colab.research.google.com/assets/colab-badge.svg\" alt=\"Open In Colab\"/></a>"
      ]
    },
    {
      "cell_type": "code",
      "execution_count": null,
      "metadata": {
        "colab": {
          "base_uri": "https://localhost:8080/"
        },
        "id": "yyyb-trSd7cH",
        "outputId": "0cf84725-a23f-46a7-f7f1-9405600e79a2"
      },
      "outputs": [
        {
          "output_type": "stream",
          "name": "stdout",
          "text": [
            "Drive already mounted at /content/drive; to attempt to forcibly remount, call drive.mount(\"/content/drive\", force_remount=True).\n"
          ]
        }
      ],
      "source": [
        "from google.colab import drive\n",
        "drive.mount('/content/drive')"
      ]
    },
    {
      "cell_type": "code",
      "execution_count": null,
      "metadata": {
        "colab": {
          "base_uri": "https://localhost:8080/"
        },
        "id": "B2-OSd18fEb5",
        "outputId": "496d993f-c6db-4cf7-94a9-9bcba65765b6"
      },
      "outputs": [
        {
          "output_type": "stream",
          "name": "stdout",
          "text": [
            "            QuestionNepali               QuestionRoman   QuestionEnglish  \\\n",
            "0              तिमी को हौ?                Timi Ko hau?      Who are you?   \n",
            "1              के सक्छौ त?               K sakchau ta?  What can you do?   \n",
            "2         तिमीलाई कस्तो छ?          Timilai kasto cha?      How are you?   \n",
            "3  तिमीलाई कसले बनाएको हो?  Timilai kasle banayeko ho?     Who made you?   \n",
            "4           तिमी के गर्छौ?             Timi k garchau?  What can you do?   \n",
            "\n",
            "                                              Answer Image_path  \n",
            "0                    म Axis ले बनाएको च्याटबोट हुँ |             \n",
            "1  म विभिन्न विषयमा प्रश्नहरूको उत्तर दिन सक्छु —...             \n",
            "2             म ठिक छु, धन्यवाद! तपाईंलाई कस्तो छ त?             \n",
            "3                    म Axis ले बनाएको च्याटबोट हुँ |             \n",
            "4                         म प्रश्नहरूको जवाफ दिन्छु।             \n"
          ]
        }
      ],
      "source": [
        "import pandas as pd\n",
        "# Load the knowledge base\n",
        "df = pd.read_excel('/content/drive/MyDrive/ChatbotRefined.xlsx')\n",
        "df.fillna('', inplace=True)\n",
        "print(df.head())"
      ]
    },
    {
      "cell_type": "code",
      "execution_count": null,
      "metadata": {
        "colab": {
          "base_uri": "https://localhost:8080/"
        },
        "id": "SgIOwlrHgeuO",
        "outputId": "21694b0f-dd17-4128-c9a1-ef6de7100353"
      },
      "outputs": [
        {
          "output_type": "stream",
          "name": "stdout",
          "text": [
            "                                   Combined_Question\n",
            "0              तिमी को हौ? timi ko hau? who are you?\n",
            "1         के सक्छौ त? k sakchau ta? what can you do?\n",
            "2   तिमीलाई कस्तो छ? timilai kasto cha? how are you?\n",
            "3  तिमीलाई कसले बनाएको हो? timilai kasle banayeko...\n",
            "4    तिमी के गर्छौ? timi k garchau? what can you do?\n"
          ]
        }
      ],
      "source": [
        "# Create a unified, normalized column\n",
        "df['Combined_Question'] = (\n",
        "    df['QuestionNepali'].str.lower() + ' ' +\n",
        "    df['QuestionRoman'].str.lower() + ' ' +\n",
        "    df['QuestionEnglish'].str.lower()\n",
        ")\n",
        "print(df[['Combined_Question']].head())"
      ]
    },
    {
      "cell_type": "code",
      "execution_count": null,
      "metadata": {
        "id": "5FFKD0k2fc2o"
      },
      "outputs": [],
      "source": [
        "import unicodedata\n",
        "def normalize_input(user_input):\n",
        "    return unicodedata.normalize(\"NFKC\", user_input.strip().lower())"
      ]
    },
    {
      "cell_type": "code",
      "execution_count": null,
      "metadata": {
        "id": "W3ZFPJhDfm4A"
      },
      "outputs": [],
      "source": [
        "from sklearn.feature_extraction.text import TfidfVectorizer\n",
        "from sklearn.metrics.pairwise import cosine_similarity\n",
        "\n",
        "# Build TF-IDF on the entire dataset\n",
        "vectorizer = TfidfVectorizer(analyzer='word', token_pattern=r'\\b\\w+\\b')\n",
        "corpus = df['Combined_Question'].tolist()\n",
        "tfidf_matrix = vectorizer.fit_transform(corpus)"
      ]
    },
    {
      "cell_type": "code",
      "source": [
        "from sklearn.feature_extraction.text import TfidfVectorizer\n",
        "from sklearn.metrics.pairwise import cosine_similarity\n",
        "from IPython.display import Image, display\n",
        "import pandas as pd\n",
        "import unicodedata\n",
        "import os\n",
        "import re\n",
        "\n",
        "# ✅ Load the dataset\n",
        "df = pd.read_excel(\"/content/drive/MyDrive/ChatbotRefined.xlsx\")\n",
        "df.fillna(\"\", inplace=True)\n",
        "\n",
        "# ✅ Combine all languages for TF-IDF\n",
        "df['Combined_Question'] = (\n",
        "    df['QuestionNepali'].str.lower().str.strip() + \" \" +\n",
        "    df['QuestionRoman'].str.lower().str.strip() + \" \" +\n",
        "    df['QuestionEnglish'].str.lower().str.strip()\n",
        ")\n",
        "\n",
        "# ✅ Normalize input (Unicode-safe, preserves Nepali)\n",
        "def normalize_input(text):\n",
        "    text = text.lower().strip()\n",
        "    text = unicodedata.normalize(\"NFKC\", text)  # Normalize full-width & Nepali characters\n",
        "    return re.sub(r\"\\s+\", \" \", text)  # Collapse multiple spaces\n",
        "\n",
        "# ✅ Build TF-IDF matrix\n",
        "vectorizer = TfidfVectorizer(analyzer=\"word\", token_pattern=r\"\\b\\w+\\b\")\n",
        "corpus = df[\"Combined_Question\"].tolist()\n",
        "tfidf_matrix = vectorizer.fit_transform(corpus)\n",
        "\n",
        "# ✅ Path to images in Google Drive\n",
        "BASE_IMAGE_PATH = \"/content/drive/MyDrive/Images\"\n",
        "\n",
        "# ✅ Get best matching answer\n",
        "def get_best_answer(query, threshold=0.4):\n",
        "    query_norm = normalize_input(query)\n",
        "    query_tfidf = vectorizer.transform([query_norm])\n",
        "    cos_scores = cosine_similarity(query_tfidf, tfidf_matrix).flatten()\n",
        "\n",
        "    best_index = cos_scores.argmax()\n",
        "    best_score = cos_scores[best_index]\n",
        "\n",
        "    print(f\"\\n🔎 Similarity Score: {best_score:.2f}\")\n",
        "\n",
        "    if best_score < threshold:\n",
        "        return \"माफ गर्नुहोस्, तपाईंको प्रश्न राम्रोसँग बुझ्न सकिनँ।\", None\n",
        "\n",
        "    best_answer = df.iloc[best_index][\"Answer\"]\n",
        "    image_path = df.iloc[best_index][\"Image_path\"]\n",
        "    return best_answer, image_path\n",
        "\n",
        "# ✅ Display image\n",
        "def show_image(image_path):\n",
        "    if not isinstance(image_path, str) or not image_path.strip():\n",
        "        print(\"🖼️ No image provided.\")\n",
        "        return\n",
        "\n",
        "    image_filename = image_path.replace(\"Images/\", \"\").strip()\n",
        "    full_path = os.path.join(BASE_IMAGE_PATH, image_filename)\n",
        "\n",
        "    if os.path.exists(full_path):\n",
        "        display(Image(filename=full_path))\n",
        "    else:\n",
        "        print(f\"⚠️ Image not found: {full_path}\")\n",
        "\n",
        "# ✅ Chat loop\n",
        "print(\"🤖 Chatbot is ready! (Type 'exit' to quit)\")\n",
        "while True:\n",
        "    query = input(\"\\nYou: \").strip()\n",
        "    if query.lower() in [\"exit\", \"quit\", \"stop\"]:\n",
        "        print(\"👋 Exiting chatbot. Goodbye!\")\n",
        "        break\n",
        "\n",
        "    answer, image = get_best_answer(query)\n",
        "    print(\"Bot:\", answer)\n",
        "    if image:\n",
        "        show_image(image)\n"
      ],
      "metadata": {
        "colab": {
          "base_uri": "https://localhost:8080/"
        },
        "id": "ic4yvqmbmHNa",
        "outputId": "ab5c1b5e-80f0-477c-e55a-bced2d821098"
      },
      "execution_count": null,
      "outputs": [
        {
          "output_type": "stream",
          "name": "stdout",
          "text": [
            "🤖 Chatbot is ready! (Type 'exit' to quit)\n",
            "\n",
            "You: तिमीलाई कस्तो प्रश्न सोध्न मिल्छ?\n",
            "\n",
            "🔎 Similarity Score: 0.65\n",
            "Bot: मलाई यो सफ़्टोयर को सम्पूर्ण जानकारी सोध्न सक्छौ। \n",
            "\n",
            "You: तिमी के गर्छौ?\n",
            "\n",
            "🔎 Similarity Score: 0.49\n",
            "Bot: म प्रश्नहरूको जवाफ दिन्छु।\n",
            "\n",
            "You: Timi k garchau?\n",
            "\n",
            "🔎 Similarity Score: 0.63\n",
            "Bot: म प्रश्नहरूको जवाफ दिन्छु।\n",
            "\n",
            "You: What kind of question can I ask you?\n",
            "\n",
            "🔎 Similarity Score: 0.58\n",
            "Bot: मलाई यो सफ़्टोयर को सम्पूर्ण जानकारी सोध्न सक्छौ। \n",
            "\n",
            "You: exit\n",
            "👋 Exiting chatbot. Goodbye!\n"
          ]
        }
      ]
    },
    {
      "cell_type": "code",
      "source": [],
      "metadata": {
        "id": "RyhBPQfIQhlY"
      },
      "execution_count": null,
      "outputs": []
    },
    {
      "cell_type": "code",
      "execution_count": null,
      "metadata": {
        "id": "fIGxJUUodo98"
      },
      "outputs": [],
      "source": [
        "# def get_best_answer(query, threshold=0.4):\n",
        "#     query_norm = normalize_input(query)\n",
        "#     query_tfidf = vectorizer.transform([query_norm])\n",
        "#     cos_scores = cosine_similarity(query_tfidf, tfidf_matrix).flatten()\n",
        "\n",
        "#     best_index = cos_scores.argmax()\n",
        "#     best_score = cos_scores[best_index]\n",
        "\n",
        "#     print(f\"Similarity Score: {best_score:.2f}\")\n",
        "\n",
        "#     if best_score < threshold:\n",
        "#         return \"माफ गर्नुहोस्, तपाईंको प्रश्न राम्रोसँग बुझ्न सकिनँ।\", None\n",
        "\n",
        "#     best_answer = df.iloc[best_index]['Answer']\n",
        "#     image_path = df.iloc[best_index]['Image_path']\n",
        "\n",
        "#     return best_answer, image_path\n",
        "# # def get_best_answer(query, session_context, threshold=0.4):\n",
        "# #     # Check for memory reset\n",
        "# #     if query.lower().startswith(\"new topic:\"):\n",
        "# #         session_context.clear()\n",
        "# #         query = query[len(\"new topic:\"):].strip()\n",
        "\n",
        "# #     # Normalize and expand query using context\n",
        "# #     query_norm = normalize_input(query)\n",
        "# #     full_query = \" \".join(session_context[-2:] + [query_norm])  # last 2 + current\n",
        "# #     full_query_tfidf = vectorizer.transform([full_query])\n",
        "\n",
        "# #     cos_scores = cosine_similarity(full_query_tfidf, tfidf_matrix).flatten()\n",
        "# #     best_index = cos_scores.argmax()\n",
        "# #     best_score = cos_scores[best_index]\n",
        "\n",
        "# #     print(f\"Similarity Score: {best_score:.2f}\")\n",
        "\n",
        "# #     if best_score < threshold:\n",
        "# #         return \"माफ गर्नुहोस्, तपाईंको प्रश्न राम्रोसँग बुझ्न सकिनँ।\", None\n",
        "\n",
        "# #     # Update context only after match\n",
        "# #     session_context.append(query_norm)\n",
        "\n",
        "# #     best_answer = df.iloc[best_index]['Answer']\n",
        "# #     image_path = df.iloc[best_index]['Image_path']\n",
        "# #     return best_answer, image_path\n"
      ]
    },
    {
      "cell_type": "code",
      "execution_count": null,
      "metadata": {
        "id": "NBZ9YH8vf22q"
      },
      "outputs": [],
      "source": [
        "# from IPython.display import Image, display\n",
        "# import os\n",
        "\n",
        "# # Define the base path where all images are stored\n",
        "# BASE_IMAGE_PATH = \"/content/drive/MyDrive/Images\"\n",
        "\n",
        "# def show_image(image_path):\n",
        "#     \"\"\"\n",
        "#     Displays an image if a valid image path is provided and exists.\n",
        "# \"\"\"\n",
        "#     # Check if the image path is a valid non-empty string\n",
        "#     if not isinstance(image_path, str) or not image_path.strip():\n",
        "#         print(\"No valid image to show.\")\n",
        "#         return\n",
        "\n",
        "#     # Clean the path\n",
        "#     image_path = image_path.strip()\n",
        "\n",
        "#     # Remove 'Images/' prefix if present\n",
        "#     image_filename = image_path.replace(\"Images/\", \"\")\n",
        "\n",
        "#     # Construct the full path to the image\n",
        "#     full_path = os.path.join(BASE_IMAGE_PATH, image_filename)\n",
        "\n",
        "#     # Display if exists, otherwise show warning\n",
        "#     if os.path.exists(full_path):\n",
        "#         display(Image(filename=full_path))\n",
        "#     else:\n",
        "#         print(f\"⚠️ Image file not found: {full_path}\")\n",
        "\n"
      ]
    },
    {
      "cell_type": "code",
      "source": [
        "# # To store previous questions for context-aware retrieval\n",
        "# session_context = []"
      ],
      "metadata": {
        "id": "k-2WwIwRGlj2"
      },
      "execution_count": null,
      "outputs": []
    },
    {
      "cell_type": "code",
      "execution_count": null,
      "metadata": {
        "id": "OgH1rXh32Oof"
      },
      "outputs": [],
      "source": [
        "# while True:\n",
        "#     query = input(\"You: \")\n",
        "#     if query.lower().strip() in ['exit', 'quit', 'stop']:\n",
        "#         print(\"Exiting chatbot\")\n",
        "#         break\n",
        "#     answer, image = get_best_answer(query)\n",
        "#     print(\"Bot:\", answer)\n",
        "#     if image:\n",
        "#         show_image(image)\n",
        "# while True:\n",
        "#     query = input(\"You: \").strip()\n",
        "#     if query.lower() in ['exit', 'quit', 'stop']:\n",
        "#         print(\"Exiting chatbot. 👋\")\n",
        "#         break\n",
        "\n",
        "#     answer, image = get_best_answer(query, session_context)\n",
        "#     print(\"Bot:\", answer)\n",
        "\n",
        "#     if image:\n",
        "#         show_image(image)\n"
      ]
    }
  ],
  "metadata": {
    "colab": {
      "provenance": [],
      "authorship_tag": "ABX9TyN5f9T59uo1rfvzWjnE2YGs",
      "include_colab_link": true
    },
    "kernelspec": {
      "display_name": "Python 3",
      "name": "python3"
    },
    "language_info": {
      "name": "python"
    }
  },
  "nbformat": 4,
  "nbformat_minor": 0
}