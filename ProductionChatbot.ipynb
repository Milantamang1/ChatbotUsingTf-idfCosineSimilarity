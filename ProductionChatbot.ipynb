{
  "cells": [
    {
      "cell_type": "code",
      "source": [
        "import pandas as pd\n",
        "import unicodedata\n",
        "import re\n",
        "import os\n",
        "from sklearn.feature_extraction.text import TfidfVectorizer\n",
        "from sklearn.metrics.pairwise import cosine_similarity\n",
        "from IPython.display import Image, display"
      ],
      "metadata": {},
      "execution_count": null,
      "outputs": []
    },
  
    {
      "cell_type": "code",
      "source": [
        "# Normalize input text (handles Unicode/Nepali spacing)\n",
        "def normalize_input(text):\n",
        "    text = text.lower().strip()\n",
        "    text = unicodedata.normalize(\"NFKC\", text)\n",
        "    return re.sub(r\"\\s+\", \" \", text)"
      ],
      "metadata": {},
      "execution_count": null,
      "outputs": []
    },
    {
      "cell_type": "code",
      "source": [
        "# Convert text to TF-IDF vectors for similarity computation\n",
        "vectorizer = TfidfVectorizer(analyzer=\"word\", token_pattern=r\"\\b\\w+\\b\")\n",
        "tfidf_matrix = vectorizer.fit_transform(df[\"Combined_Question\"])"
      ],
      "metadata": {},
      "execution_count": null,
      "outputs": []
    },
    {
      "cell_type": "code",
      "source": [
        "# Match user query to the most similar question in the knowledge base\n",
        "def get_best_answer(query, threshold=0.4):\n",
        "    query_norm = normalize_input(query)\n",
        "    query_tfidf = vectorizer.transform([query_norm])\n",
        "    cos_scores = cosine_similarity(query_tfidf, tfidf_matrix).flatten()\n",
        "    best_index = cos_scores.argmax()\n",
        "    best_score = cos_scores[best_index]\n",
        "    if best_score < threshold:\n",
        "        return None, None\n",
        "    return df.iloc[best_index][\"Answer\"], df.iloc[best_index][\"Image_path\"]"
      ],
      "metadata": {},
      "execution_count": null,
      "outputs": []
    },
    {
      "cell_type": "code",
      "source": [
        "# Display image associated with answer if available\n",
        "def show_image(image_path):\n",
        "    if not isinstance(image_path, str) or not image_path.strip():\n",
        "        return\n",
        "    image_filename = image_path.replace(\"Images/\", \"\").strip()\n",
        "    full_path = os.path.join(BASE_IMAGE_PATH, image_filename)\n",
        "    if os.path.exists(full_path):\n",
        "        display(Image(filename=full_path))"
      ],
      "metadata": {},
      "execution_count": null,
      "outputs": []
    }
  ],
  "metadata": {
    "kernelspec": {
      "display_name": "Python 3",
      "name": "python3"
    },
    "language_info": {
      "name": "python"
    }
  },
  "nbformat": 4,
  "nbformat_minor": 0
}
